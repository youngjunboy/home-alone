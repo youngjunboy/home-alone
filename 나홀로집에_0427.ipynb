{
 "cells": [
  {
   "cell_type": "code",
   "execution_count": 126,
   "id": "a91a3ebc-63ef-49ee-8b82-f3c8708b4a72",
   "metadata": {},
   "outputs": [],
   "source": [
    "import random"
   ]
  },
  {
   "cell_type": "markdown",
   "id": "58379e7b-ed36-4467-83ad-1a7e7a9a0c19",
   "metadata": {},
   "source": [
    "# 곱하기 맞추기"
   ]
  },
  {
   "cell_type": "code",
   "execution_count": 7,
   "id": "852bb9e1-4894-467e-bdf8-28fa2fa5124c",
   "metadata": {},
   "outputs": [
    {
     "name": "stdout",
     "output_type": "stream",
     "text": [
      "12 x 15 = ?\n"
     ]
    },
    {
     "name": "stdin",
     "output_type": "stream",
     "text": [
      " 180\n"
     ]
    },
    {
     "name": "stdout",
     "output_type": "stream",
     "text": [
      "정답!\n",
      "12 x 8 = ?\n"
     ]
    },
    {
     "name": "stdin",
     "output_type": "stream",
     "text": [
      " 96\n"
     ]
    },
    {
     "name": "stdout",
     "output_type": "stream",
     "text": [
      "정답!\n",
      "2 x 15 = ?\n"
     ]
    },
    {
     "name": "stdin",
     "output_type": "stream",
     "text": [
      " 30\n"
     ]
    },
    {
     "name": "stdout",
     "output_type": "stream",
     "text": [
      "정답!\n",
      "15 x 6 = ?\n"
     ]
    },
    {
     "name": "stdin",
     "output_type": "stream",
     "text": [
      " 90\n"
     ]
    },
    {
     "name": "stdout",
     "output_type": "stream",
     "text": [
      "정답!\n",
      "5 x 6 = ?\n"
     ]
    },
    {
     "name": "stdin",
     "output_type": "stream",
     "text": [
      " 30\n"
     ]
    },
    {
     "name": "stdout",
     "output_type": "stream",
     "text": [
      "정답!\n",
      "맞은 횟수 : 5\n",
      "틀린 횟수 : 0\n",
      "맞은 횟수가 더 많네요! 수고하셨습니다~\n"
     ]
    }
   ],
   "source": [
    "o = 0\n",
    "x = 0\n",
    "for i in range(5):\n",
    "    a = random.randint(2,20)\n",
    "    b = random.randint(1,20)\n",
    "    print('{} x {} = ?'.format(a,b))\n",
    "    n = int(input())\n",
    "    if n == a * b:\n",
    "        print('정답!')\n",
    "        o += 1\n",
    "    else:\n",
    "        print('땡!')\n",
    "        x += 1\n",
    "\n",
    "print(f'맞은 횟수 : {o}')\n",
    "print(f'틀린 횟수 : {x}')\n",
    "\n",
    "if o > x:\n",
    "    print('맞은 횟수가 더 많네요! 수고하셨습니다~')\n",
    "elif o == x:\n",
    "    print('맞은 횟수와 틀린 횟수가 동일합니다. 조금만 더 노력해 보세요!')\n",
    "else:\n",
    "    print('틀린 횟수가 많네요. 열심히 하세요!!')"
   ]
  },
  {
   "cell_type": "markdown",
   "id": "c46e7d78-cb65-4233-91a1-25e014163e59",
   "metadata": {},
   "source": [
    "# 알파고와 가위바위보"
   ]
  },
  {
   "cell_type": "code",
   "execution_count": 28,
   "id": "56339684-4def-4c26-a2a6-ff81320e58b0",
   "metadata": {},
   "outputs": [
    {
     "name": "stdin",
     "output_type": "stream",
     "text": [
      "나 :  빠\n"
     ]
    },
    {
     "name": "stdout",
     "output_type": "stream",
     "text": [
      "알파고 : 찌\n",
      "졌습니다..\n"
     ]
    }
   ],
   "source": [
    "rcp = random.choice('묵찌빠')\n",
    "inputs = input('나 : ')\n",
    "print(f'알파고 : {rcp}')\n",
    "\n",
    "if inputs == rcp:\n",
    "    print('똑같네요')\n",
    "elif inputs == '묵' and rcp == '찌':\n",
    "    print('이겼습니다!')\n",
    "elif inputs == '찌' and rcp == '빠':\n",
    "    print('이겼습니다!')\n",
    "elif inputs == '빠' and rcp == '묵':\n",
    "    print('이겼습니다!')\n",
    "else:\n",
    "    print('졌습니다..')"
   ]
  },
  {
   "cell_type": "markdown",
   "id": "d867788e-64af-4925-9816-6a102d956f2f",
   "metadata": {},
   "source": [
    "# 로또 번호 맞추기"
   ]
  },
  {
   "cell_type": "code",
   "execution_count": 139,
   "id": "00797a58-9697-492d-8609-c4602966dc02",
   "metadata": {},
   "outputs": [
    {
     "name": "stdin",
     "output_type": "stream",
     "text": [
      "첫번째 번호를 입력하세요 2\n"
     ]
    },
    {
     "name": "stdout",
     "output_type": "stream",
     "text": [
      "숫자가 일치하네요!\n"
     ]
    },
    {
     "name": "stdin",
     "output_type": "stream",
     "text": [
      "두번째 번호를 입력하세요 4\n"
     ]
    },
    {
     "name": "stdout",
     "output_type": "stream",
     "text": [
      "숫자가 일치하네요!\n"
     ]
    },
    {
     "name": "stdin",
     "output_type": "stream",
     "text": [
      "세번째 번호를 입력하세요 1\n"
     ]
    },
    {
     "name": "stdout",
     "output_type": "stream",
     "text": [
      "숫자가 일치하지 않네요..\n"
     ]
    }
   ],
   "source": [
    "number = ['1','2','3','4']\n",
    "random.shuffle(number)\n",
    "for i in range(len(number)):\n",
    "    q = input('첫번째 번호를 입력하세요')\n",
    "    if q == number[0]:\n",
    "        print('숫자가 일치하네요!')\n",
    "        q = input('두번째 번호를 입력하세요')\n",
    "        if q == number[1]:\n",
    "            print('숫자가 일치하네요!')\n",
    "            q = input('세번째 번호를 입력하세요')\n",
    "            if q == number[2]:\n",
    "                print('숫자가 일치하네요!')\n",
    "                print('로또 번호를 모두 맞추셨습니다! 축하드려요~~')\n",
    "                break\n",
    "            else:\n",
    "                print('숫자가 일치하지 않네요..')\n",
    "                break\n",
    "        else:\n",
    "            print('숫자가 일치하지 않네요..')\n",
    "            break\n",
    "    else:\n",
    "        print('숫자가 일치하지 않네요..')\n",
    "        continue"
   ]
  }
 ],
 "metadata": {
  "kernelspec": {
   "display_name": "Python 3 (ipykernel)",
   "language": "python",
   "name": "python3"
  },
  "language_info": {
   "codemirror_mode": {
    "name": "ipython",
    "version": 3
   },
   "file_extension": ".py",
   "mimetype": "text/x-python",
   "name": "python",
   "nbconvert_exporter": "python",
   "pygments_lexer": "ipython3",
   "version": "3.11.7"
  }
 },
 "nbformat": 4,
 "nbformat_minor": 5
}
